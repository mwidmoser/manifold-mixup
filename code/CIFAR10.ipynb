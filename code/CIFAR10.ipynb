{
  "nbformat": 4,
  "nbformat_minor": 0,
  "metadata": {
    "colab": {
      "name": "CIFAR10.ipynb",
      "provenance": [],
      "collapsed_sections": [],
      "include_colab_link": true
    },
    "kernelspec": {
      "name": "python3",
      "display_name": "Python 3"
    },
    "accelerator": "GPU"
  },
  "cells": [
    {
      "cell_type": "markdown",
      "metadata": {
        "id": "view-in-github",
        "colab_type": "text"
      },
      "source": [
        "<a href=\"https://colab.research.google.com/github/mwidmoser/manifold-mixup/blob/master/code/CIFAR10.ipynb\" target=\"_parent\"><img src=\"https://colab.research.google.com/assets/colab-badge.svg\" alt=\"Open In Colab\"/></a>"
      ]
    },
    {
      "cell_type": "markdown",
      "metadata": {
        "id": "bxCe-p9LIXRu",
        "colab_type": "text"
      },
      "source": [
        "# Assignment 3 (15 points)\n",
        "(due on Nov. 25, 11pm)\n",
        "\n",
        "In the third assignment, we will write a Convolutional Neural Network (CNN) together with training and evaluation routines.\n",
        "\n",
        "The task description can be found below.\n",
        "\n",
        "**Important**: I strongly recommend to use *Google Collab (GC)* for this assignment. Make yourself familiar with running Jupyter notebooks on GC (especially selecting the right runtime, i.e., Python 3 + GPU). This will make your life a lot easier, as training will be faster and you can easily debug problems in your model."
      ]
    },
    {
      "cell_type": "code",
      "metadata": {
        "id": "CeswLxlcE28m",
        "colab_type": "code",
        "outputId": "4fc1ecfa-2879-493f-8535-bf50285b0504",
        "colab": {
          "base_uri": "https://localhost:8080/",
          "height": 34
        }
      },
      "source": [
        "%matplotlib inline\n",
        "import matplotlib.pyplot as plt\n",
        "\n",
        "# PyTorch imports\n",
        "import torch\n",
        "import torch.nn as nn\n",
        "import torch.optim as optim\n",
        "import torch.nn.functional as F\n",
        "\n",
        "# Torchvision imports\n",
        "import torchvision\n",
        "import torchvision.transforms as transforms\n",
        "from torchvision.datasets import MNIST, CIFAR10\n",
        "from torch.utils.data.dataset import Subset\n",
        "from torch.utils.data import DataLoader\n",
        "\n",
        "# Numpy and other stuff\n",
        "import numpy as np\n",
        "from sklearn.model_selection import StratifiedShuffleSplit\n",
        "from collections import Counter\n",
        "\n",
        "torch.manual_seed(1234);\n",
        "np.random.seed(1234);\n",
        "\n",
        "# Check if we have a CUDA-capable device; if so, use it\n",
        "device = 'cuda' if torch.cuda.is_available() else 'cpu'\n",
        "print('Will train on {}'.format(device))"
      ],
      "execution_count": 1,
      "outputs": [
        {
          "output_type": "stream",
          "text": [
            "Will train on cuda\n"
          ],
          "name": "stdout"
        }
      ]
    },
    {
      "cell_type": "code",
      "metadata": {
        "id": "RvUP3dkLL76A",
        "colab_type": "code",
        "outputId": "4386697a-8479-4fef-ec85-a37da8d9efca",
        "colab": {
          "base_uri": "https://localhost:8080/",
          "height": 34
        }
      },
      "source": [
        "print(torch.__version__)"
      ],
      "execution_count": 2,
      "outputs": [
        {
          "output_type": "stream",
          "text": [
            "1.3.1\n"
          ],
          "name": "stdout"
        }
      ]
    },
    {
      "cell_type": "code",
      "metadata": {
        "id": "eOSdQelkMPAd",
        "colab_type": "code",
        "outputId": "ba974a0d-32e4-4d05-ed82-183096b357ad",
        "colab": {
          "base_uri": "https://localhost:8080/",
          "height": 68
        }
      },
      "source": [
        "# CIFAR10 transforms (random horizontal flipping + mean/std. dev. normalize)\n",
        "cifar10_transforms = transforms.Compose(\n",
        "    [transforms.RandomHorizontalFlip(p=0.5),\n",
        "     transforms.ToTensor(),\n",
        "     transforms.Normalize((0.4914, 0.4822, 0.4465), (0.247, 0.243, 0.261))])\n",
        "         \n",
        "# Load full training data\n",
        "ds_train = CIFAR10('./cifar', \n",
        "                 train=True, \n",
        "                 transform=cifar10_transforms, \n",
        "                 target_transform=None, \n",
        "                 download=True)\n",
        "\n",
        "# Load full testing data \n",
        "ds_test = CIFAR10('./cifar', \n",
        "                 train=False, \n",
        "                 transform=cifar10_transforms,\n",
        "                 target_transform=None, \n",
        "                 download=True)\n",
        "\n",
        "lab = [ds_train[x][1] for x in range(len(ds_train))]"
      ],
      "execution_count": 3,
      "outputs": [
        {
          "output_type": "stream",
          "text": [
            "\r0it [00:00, ?it/s]"
          ],
          "name": "stderr"
        },
        {
          "output_type": "stream",
          "text": [
            "Downloading https://www.cs.toronto.edu/~kriz/cifar-10-python.tar.gz to ./cifar/cifar-10-python.tar.gz\n"
          ],
          "name": "stdout"
        },
        {
          "output_type": "stream",
          "text": [
            " 99%|█████████▉| 168943616/170498071 [00:11<00:00, 17922680.43it/s]"
          ],
          "name": "stderr"
        },
        {
          "output_type": "stream",
          "text": [
            "Extracting ./cifar/cifar-10-python.tar.gz to ./cifar\n",
            "Files already downloaded and verified\n"
          ],
          "name": "stdout"
        }
      ]
    },
    {
      "cell_type": "code",
      "metadata": {
        "id": "CGmz9GEKRuvw",
        "colab_type": "code",
        "colab": {}
      },
      "source": [
        "def generate_train_indices(n_splits, train_size, lab):\n",
        "    s = StratifiedShuffleSplit(\n",
        "        n_splits=n_splits, \n",
        "        train_size=train_size, \n",
        "        test_size=None)\n",
        "    \n",
        "    return [i.tolist() for i, _ in s.split(lab, lab)]"
      ],
      "execution_count": 0,
      "outputs": []
    },
    {
      "cell_type": "code",
      "metadata": {
        "id": "KGYPAsbwR77Z",
        "colab_type": "code",
        "colab": {}
      },
      "source": [
        "classes = ['plane', \n",
        "           'car', \n",
        "           'bird', \n",
        "           'cat',\n",
        "           'deer', \n",
        "           'dog', \n",
        "           'frog', \n",
        "           'horse', \n",
        "           'ship', \n",
        "           'truck']"
      ],
      "execution_count": 0,
      "outputs": []
    },
    {
      "cell_type": "code",
      "metadata": {
        "id": "vxTbKsZnSC-2",
        "colab_type": "code",
        "colab": {}
      },
      "source": [
        "def show_images(ds: torchvision.datasets.cifar.CIFAR10, \n",
        "                indices: list):\n",
        "    \n",
        "    assert np.max(indices) < len(ds)\n",
        "    \n",
        "    plt.figure(figsize=(9, len(indices)));\n",
        "    for j,idx in enumerate(indices):\n",
        "        plt.subplot(1,len(indices),j+1)\n",
        "        plt.imshow(ds[idx][0].permute(1,2,0).numpy())\n",
        "        plt.title('Label={}'.format(classes[ds[idx][1]]),fontsize=9)"
      ],
      "execution_count": 0,
      "outputs": []
    },
    {
      "cell_type": "markdown",
      "metadata": {
        "id": "4ElEkUGgJ86C",
        "colab_type": "text"
      },
      "source": [
        "## Tasks\n",
        "\n",
        "The assignment is split into 4 parts: \n",
        "\n",
        "1. Writing the model definition\n",
        "2. Writing the training code\n",
        "3. Writing the testing code\n",
        "4. Writing the *glue* code for training/testing\n",
        "\n",
        "*First*, implement the following **convolutional neural network (CNN)**: It consists of 3 blocks and a simple linear classifier at the end.\n",
        "\n",
        "My notation denotes the following:\n",
        "\n",
        "- `Conv2D(in_channels, out_channels, kernel_size, padding)` - 2D Convolution\n",
        "- `MaxPool(kernel_size, stride, padding)` - Max. pooling\n",
        "- `AvgPool(kernel_size, stride, padding)` - Avg. pooling\n",
        "- `Dropout(dropout_probability)` - Dropout layer\n",
        "- `BatchNorm2D` - 2D batch normalization\n",
        "\n",
        "All these operations can also be found in the [PyTorch documentaton](https://pytorch.org/docs/stable/index.html).\n",
        "\n",
        "**Block 1**\n",
        "\n",
        "```\n",
        "Conv2D(  3,128,3,1) -> Batchnorm2D -> LeakyReLU(0.1)\n",
        "Conv2D(128,128,3,1) -> Batchnorm2D -> LeakyReLU(0.1)\n",
        "Conv2D(128,128,3,1) -> Batchnorm2D -> LeakyReLU(0.1)\n",
        "MaxPool(2,2,0)\n",
        "Dropout(0.5)\n",
        "```\n",
        "The output size at that point should be $N \\times 128 \\times 16 \\times 16$.\n",
        "\n",
        "**Block 2**\n",
        "\n",
        "```\n",
        "Conv2D(128,256,3,1) -> Batchnorm2D -> LeakyReLU(0.1)\n",
        "Conv2D(256,256,3,1) -> Batchnorm2D -> LeakyReLU(0.1)\n",
        "Conv2D(256,256,3,1) -> Batchnorm2D -> LeakyReLU(0.1)\n",
        "MaxPool(2,2,0)\n",
        "Dropout(0.5)\n",
        "```\n",
        "The output size at that point should be $N \\times 128 \\times 8 \\times 8$.\n",
        "\n",
        "**Block 3**\n",
        "\n",
        "```\n",
        "Conv2D(256,512,3,0) -> Batchnorm2D -> LeakyReLU(0.1)\n",
        "Conv2D(512,256,1,0) -> Batchnorm2D -> LeakyReLU(0.1)\n",
        "Conv2D(256,128,1,0) -> Batchnorm2D -> LeakyReLU(0.1)\n",
        "AvgPool(6,2,0)\n",
        "Dropout(0.5)\n",
        "```\n",
        "The output size at that point should be $N \\times 128 \\times 1 \\times 1$.\n",
        "\n",
        "**Classifier**\n",
        "\n",
        "View the output of the last block as a $1 \\times 128$ tensor and add a \n",
        "linear layer mapping from $\\mathbb{R}^{128} \\rightarrow \\mathbb{R}^{10}$\n",
        "(include bias)."
      ]
    },
    {
      "cell_type": "markdown",
      "metadata": {
        "id": "YDCXdZUSKzAY",
        "colab_type": "text"
      },
      "source": [
        "```python\n",
        "class ConvNet(nn.Module): \n",
        "    def __init__(self, num_classes=10):\n",
        "      super(ConvNet, self).__init__()\n",
        "      # YOUR CODE GOES HERE\n",
        "      \n",
        "    def forward(self, x):\n",
        "      # YOUR CODE GOES HERE\n",
        "      pass\n",
        "```"
      ]
    },
    {
      "cell_type": "code",
      "metadata": {
        "id": "nmEQ00e8SEv2",
        "colab_type": "code",
        "colab": {}
      },
      "source": [
        "class ConvNet(nn.Module): \n",
        "    def __init__(self, num_classes=10):\n",
        "        super(ConvNet, self).__init__()\n",
        "        \n",
        "        def make_block(conv_config, pooling_op=None, use_dropout=False):\n",
        "            mlist = nn.ModuleList()\n",
        "            for in_c, out_c, k_size, pad in conv_config:\n",
        "                mlist.extend([\n",
        "                    nn.Conv2d(in_c, out_c, k_size, padding=pad),\n",
        "                    nn.BatchNorm2d(out_c),\n",
        "                    nn.LeakyReLU(0.1)\n",
        "                ])\n",
        "            mlist.append(pooling_op)\n",
        "            if use_dropout:\n",
        "                mlist.append(nn.Dropout(0.5))\n",
        "            return mlist\n",
        "\n",
        "        self.block1 = make_block([\n",
        "            [  3,128,3,1],\n",
        "            [128,128,3,1],\n",
        "            [128,128,3,1]], \n",
        "            nn.MaxPool2d(2,stride=2,padding=0), \n",
        "            use_dropout=True)\n",
        "        \n",
        "        self.block2 = make_block([\n",
        "            [128,256,3,1],\n",
        "            [256,256,3,1],\n",
        "            [256,256,3,1]], \n",
        "            nn.MaxPool2d(2,stride=2,padding=0),\n",
        "            use_dropout=True)\n",
        "\n",
        "        self.block3 = make_block([\n",
        "            [256,512,3,0],\n",
        "            [512,256,1,0],\n",
        "            [256,128,1,0]], \n",
        "            nn.AvgPool2d(6,stride=2,padding=0),\n",
        "            use_dropout=False)\n",
        "        \n",
        "        self.classifier = nn.Linear(128,10)\n",
        "    \n",
        "    def forward(self, x):\n",
        "        for l in self.block1: x = l(x)\n",
        "        for l in self.block2: x = l(x)\n",
        "        for l in self.block3: x = l(x)\n",
        "        x = x.view(x.size(0),-1)\n",
        "        x = self.classifier(x)\n",
        "        return x"
      ],
      "execution_count": 0,
      "outputs": []
    },
    {
      "cell_type": "code",
      "metadata": {
        "id": "BhtMSe7TSHo6",
        "colab_type": "code",
        "outputId": "c6112bbf-89d1-477a-9244-4aacc35947ce",
        "colab": {
          "base_uri": "https://localhost:8080/",
          "height": 34
        }
      },
      "source": [
        "net = ConvNet(10)\n",
        "out = net(torch.rand(5,3,32,32))\n",
        "print(out.size())"
      ],
      "execution_count": 8,
      "outputs": [
        {
          "output_type": "stream",
          "text": [
            "torch.Size([5, 10])\n"
          ],
          "name": "stdout"
        }
      ]
    },
    {
      "cell_type": "markdown",
      "metadata": {
        "id": "duG26vY27GJ9",
        "colab_type": "text"
      },
      "source": [
        "Write a **training method**\n",
        "\n",
        "```python\n",
        "def train(model, device, train_loader, optimizer, epoch):\n",
        "  # your code goes here\n",
        "```\n",
        "\n",
        "which takes the `model`, the `device`, the current loader for the training data, the `optimizer` and the current epoch as parameters.\n",
        "\n",
        "The training method should also print the accumulated cross-entropy loss over each epoch.\n",
        "\n",
        "Then, write a **testing method**\n",
        "\n",
        "```python\n",
        "def test(model, device, test_loader):\n",
        "  # your code goes here\n",
        "```\n",
        "\n",
        "which takes the `model`, the `device` and the testing data loader as parameters and evaluates the model on the testing split of CIFAR10.\n",
        "\n",
        "*For both methods, you can use my MNIST Jupyter notebook \n",
        "as a template.*\n",
        "\n",
        "\n",
        "\n",
        "\n",
        "\n",
        "\n",
        "\n"
      ]
    },
    {
      "cell_type": "code",
      "metadata": {
        "id": "vB6ibYt1SMhg",
        "colab_type": "code",
        "colab": {}
      },
      "source": [
        "def train(model, device, train_loader, optimizer, epoch):\n",
        "    \n",
        "    model.train()\n",
        "    \n",
        "    epoch_loss = 0\n",
        "    for batch_idx, (data, target) in enumerate(train_loader):\n",
        "        \n",
        "        data, target = data.to(device), target.to(device)\n",
        "        \n",
        "        optimizer.zero_grad()\n",
        "        output = model(data)\n",
        "        loss = F.cross_entropy(output, target)\n",
        "        loss.backward()\n",
        "        optimizer.step()\n",
        "        \n",
        "        epoch_loss += loss.item()\n",
        "\n",
        "    print('Train Epoch: {:2d} \\tLoss: {:.6f}'.format(epoch, epoch_loss))"
      ],
      "execution_count": 0,
      "outputs": []
    },
    {
      "cell_type": "code",
      "metadata": {
        "id": "HsHPvlm1SVht",
        "colab_type": "code",
        "colab": {}
      },
      "source": [
        "def test(model, device, test_loader):\n",
        "    model.eval()\n",
        "    test_loss, correct = 0, 0\n",
        "    \n",
        "    with torch.no_grad():\n",
        "        for data, target in test_loader:\n",
        "            data, target = data.to(device), target.to(device)\n",
        "            output = model(data)\n",
        "            test_loss += F.cross_entropy(output, target, reduction='sum').item()\n",
        "            pred = output.argmax(dim=1, keepdim=True)\n",
        "            correct += pred.eq(target.view_as(pred)).sum().item()\n",
        "\n",
        "    test_loss /= len(test_loader.dataset)\n",
        "    print('\\nTest set: Average loss: {:.4f}, Accuracy: {}/{} ({:.0f}%)\\n'.format(\n",
        "        test_loss, correct, len(test_loader.dataset),\n",
        "        100. * correct / len(test_loader.dataset)))"
      ],
      "execution_count": 0,
      "outputs": []
    },
    {
      "cell_type": "markdown",
      "metadata": {
        "id": "hByDU-eF7rjY",
        "colab_type": "text"
      },
      "source": [
        "Finally, write the *glue* code which iterates over `n_epochs` (e.g., 100) and, in each epoch, calls `train(...)` and `test(...)`."
      ]
    },
    {
      "cell_type": "code",
      "metadata": {
        "id": "OXEkyYPjSPye",
        "colab_type": "code",
        "outputId": "aeb07bef-925f-4f5e-f85c-115ec8ba63ba",
        "colab": {
          "base_uri": "https://localhost:8080/",
          "height": 34
        }
      },
      "source": [
        "train_indices = generate_train_indices(10, 500, lab)\n",
        "ds_train_subset = Subset(ds_train, train_indices[1])\n",
        "print(Counter([ds_train_subset[i][1] for i in range(len(ds_train_subset))]))\n",
        "\n",
        "train_loader = torch.utils.data.DataLoader(\n",
        "    ds_train_subset,\n",
        "    batch_size=32,\n",
        "    shuffle=True)\n",
        "\n",
        "test_loader = torch.utils.data.DataLoader(\n",
        "    ds_test, \n",
        "    batch_size=64, \n",
        "    shuffle=False)"
      ],
      "execution_count": 11,
      "outputs": [
        {
          "output_type": "stream",
          "text": [
            "Counter({2: 50, 3: 50, 8: 50, 6: 50, 9: 50, 0: 50, 4: 50, 7: 50, 1: 50, 5: 50})\n"
          ],
          "name": "stdout"
        }
      ]
    },
    {
      "cell_type": "markdown",
      "metadata": {
        "id": "twFNwCY46vO5",
        "colab_type": "text"
      },
      "source": [
        "Train the model using **SGD** with a learning rate of 0.01 and momentum of 0.9 for 100 epochs.\n",
        "\n",
        "After every 10th epoch, evaluate the current model on the testing data and print the current accuracy."
      ]
    },
    {
      "cell_type": "code",
      "metadata": {
        "id": "Cx2ahoZnSRqP",
        "colab_type": "code",
        "outputId": "8ae0d008-d248-4b03-9a52-615a5a3f05b5",
        "colab": {
          "base_uri": "https://localhost:8080/",
          "height": 1000
        }
      },
      "source": [
        "n_epochs = 100\n",
        "\n",
        "model = ConvNet().to(device)\n",
        "\n",
        "optimizer = optim.SGD(\n",
        "    model.parameters(), \n",
        "    lr=0.01, \n",
        "    momentum=0.9,\n",
        "    weight_decay=1e-3)\n",
        "\n",
        "scheduler = torch.optim.lr_scheduler.StepLR(optimizer, 30, 0.1)\n",
        "\n",
        "for epoch in range(1,n_epochs + 1):\n",
        "    train(model, device, train_loader, optimizer, epoch)\n",
        "    if epoch % 10 == 0:\n",
        "      test(model, device, test_loader)\n",
        "    scheduler.step()"
      ],
      "execution_count": 12,
      "outputs": [
        {
          "output_type": "stream",
          "text": [
            "Train Epoch:  1 \tLoss: 35.030296\n",
            "Train Epoch:  2 \tLoss: 31.339703\n",
            "Train Epoch:  3 \tLoss: 29.640933\n",
            "Train Epoch:  4 \tLoss: 28.760147\n",
            "Train Epoch:  5 \tLoss: 27.670100\n",
            "Train Epoch:  6 \tLoss: 25.742850\n",
            "Train Epoch:  7 \tLoss: 24.828929\n",
            "Train Epoch:  8 \tLoss: 24.262380\n",
            "Train Epoch:  9 \tLoss: 22.698264\n",
            "Train Epoch: 10 \tLoss: 23.026281\n",
            "\n",
            "Test set: Average loss: 1.7823, Accuracy: 3609/10000 (36%)\n",
            "\n",
            "Train Epoch: 11 \tLoss: 22.156794\n",
            "Train Epoch: 12 \tLoss: 20.135718\n",
            "Train Epoch: 13 \tLoss: 19.835855\n",
            "Train Epoch: 14 \tLoss: 19.588285\n",
            "Train Epoch: 15 \tLoss: 18.842392\n",
            "Train Epoch: 16 \tLoss: 19.429719\n",
            "Train Epoch: 17 \tLoss: 19.540005\n",
            "Train Epoch: 18 \tLoss: 18.058760\n",
            "Train Epoch: 19 \tLoss: 17.661105\n",
            "Train Epoch: 20 \tLoss: 17.308267\n",
            "\n",
            "Test set: Average loss: 1.9416, Accuracy: 3742/10000 (37%)\n",
            "\n",
            "Train Epoch: 21 \tLoss: 15.856175\n",
            "Train Epoch: 22 \tLoss: 16.613710\n",
            "Train Epoch: 23 \tLoss: 15.704546\n",
            "Train Epoch: 24 \tLoss: 13.539337\n",
            "Train Epoch: 25 \tLoss: 11.880777\n",
            "Train Epoch: 26 \tLoss: 12.769978\n",
            "Train Epoch: 27 \tLoss: 12.496761\n",
            "Train Epoch: 28 \tLoss: 13.221081\n",
            "Train Epoch: 29 \tLoss: 13.209139\n",
            "Train Epoch: 30 \tLoss: 11.961275\n",
            "\n",
            "Test set: Average loss: 2.1459, Accuracy: 3833/10000 (38%)\n",
            "\n",
            "Train Epoch: 31 \tLoss: 9.880370\n",
            "Train Epoch: 32 \tLoss: 8.467179\n",
            "Train Epoch: 33 \tLoss: 7.800854\n",
            "Train Epoch: 34 \tLoss: 6.976294\n",
            "Train Epoch: 35 \tLoss: 7.647152\n",
            "Train Epoch: 36 \tLoss: 7.180787\n",
            "Train Epoch: 37 \tLoss: 6.667581\n",
            "Train Epoch: 38 \tLoss: 7.768703\n",
            "Train Epoch: 39 \tLoss: 6.690909\n",
            "Train Epoch: 40 \tLoss: 6.235787\n",
            "\n",
            "Test set: Average loss: 1.6423, Accuracy: 4816/10000 (48%)\n",
            "\n",
            "Train Epoch: 41 \tLoss: 6.499285\n",
            "Train Epoch: 42 \tLoss: 6.161184\n",
            "Train Epoch: 43 \tLoss: 6.241188\n",
            "Train Epoch: 44 \tLoss: 5.934500\n",
            "Train Epoch: 45 \tLoss: 5.803322\n",
            "Train Epoch: 46 \tLoss: 6.046991\n",
            "Train Epoch: 47 \tLoss: 6.189224\n",
            "Train Epoch: 48 \tLoss: 6.448872\n",
            "Train Epoch: 49 \tLoss: 5.605754\n",
            "Train Epoch: 50 \tLoss: 5.243877\n",
            "\n",
            "Test set: Average loss: 1.7136, Accuracy: 4802/10000 (48%)\n",
            "\n",
            "Train Epoch: 51 \tLoss: 5.481115\n",
            "Train Epoch: 52 \tLoss: 5.238485\n",
            "Train Epoch: 53 \tLoss: 5.980148\n",
            "Train Epoch: 54 \tLoss: 5.137394\n",
            "Train Epoch: 55 \tLoss: 5.240537\n",
            "Train Epoch: 56 \tLoss: 5.243849\n",
            "Train Epoch: 57 \tLoss: 4.949823\n",
            "Train Epoch: 58 \tLoss: 4.413860\n",
            "Train Epoch: 59 \tLoss: 4.707124\n",
            "Train Epoch: 60 \tLoss: 4.081491\n",
            "\n",
            "Test set: Average loss: 1.7551, Accuracy: 4808/10000 (48%)\n",
            "\n",
            "Train Epoch: 61 \tLoss: 4.845070\n",
            "Train Epoch: 62 \tLoss: 4.515438\n",
            "Train Epoch: 63 \tLoss: 4.131782\n",
            "Train Epoch: 64 \tLoss: 4.348386\n",
            "Train Epoch: 65 \tLoss: 4.601877\n",
            "Train Epoch: 66 \tLoss: 4.633547\n",
            "Train Epoch: 67 \tLoss: 4.310426\n",
            "Train Epoch: 68 \tLoss: 4.113406\n",
            "Train Epoch: 69 \tLoss: 4.122983\n",
            "Train Epoch: 70 \tLoss: 4.186360\n",
            "\n",
            "Test set: Average loss: 1.7448, Accuracy: 4815/10000 (48%)\n",
            "\n",
            "Train Epoch: 71 \tLoss: 4.281534\n",
            "Train Epoch: 72 \tLoss: 4.499398\n",
            "Train Epoch: 73 \tLoss: 4.290456\n",
            "Train Epoch: 74 \tLoss: 4.277637\n",
            "Train Epoch: 75 \tLoss: 4.252399\n",
            "Train Epoch: 76 \tLoss: 4.325943\n",
            "Train Epoch: 77 \tLoss: 4.184911\n",
            "Train Epoch: 78 \tLoss: 4.292701\n",
            "Train Epoch: 79 \tLoss: 4.414784\n",
            "Train Epoch: 80 \tLoss: 4.079467\n",
            "\n",
            "Test set: Average loss: 1.7681, Accuracy: 4836/10000 (48%)\n",
            "\n",
            "Train Epoch: 81 \tLoss: 4.475645\n",
            "Train Epoch: 82 \tLoss: 3.783087\n",
            "Train Epoch: 83 \tLoss: 3.784174\n",
            "Train Epoch: 84 \tLoss: 3.867774\n",
            "Train Epoch: 85 \tLoss: 4.149336\n",
            "Train Epoch: 86 \tLoss: 3.976785\n",
            "Train Epoch: 87 \tLoss: 4.188109\n",
            "Train Epoch: 88 \tLoss: 4.149440\n",
            "Train Epoch: 89 \tLoss: 4.207433\n",
            "Train Epoch: 90 \tLoss: 4.011654\n",
            "\n",
            "Test set: Average loss: 1.7652, Accuracy: 4857/10000 (49%)\n",
            "\n",
            "Train Epoch: 91 \tLoss: 3.961415\n",
            "Train Epoch: 92 \tLoss: 3.974784\n",
            "Train Epoch: 93 \tLoss: 4.505345\n",
            "Train Epoch: 94 \tLoss: 3.740610\n",
            "Train Epoch: 95 \tLoss: 4.114543\n",
            "Train Epoch: 96 \tLoss: 4.182761\n",
            "Train Epoch: 97 \tLoss: 3.784492\n",
            "Train Epoch: 98 \tLoss: 4.037492\n",
            "Train Epoch: 99 \tLoss: 4.162059\n",
            "Train Epoch: 100 \tLoss: 4.280467\n",
            "\n",
            "Test set: Average loss: 1.7633, Accuracy: 4893/10000 (49%)\n",
            "\n"
          ],
          "name": "stdout"
        }
      ]
    },
    {
      "cell_type": "code",
      "metadata": {
        "id": "bAWY0tei5QGW",
        "colab_type": "code",
        "outputId": "f6ceed58-d303-4b08-868f-4c1f4abd2695",
        "colab": {
          "base_uri": "https://localhost:8080/",
          "height": 68
        }
      },
      "source": [
        "test(model, device, test_loader)"
      ],
      "execution_count": 13,
      "outputs": [
        {
          "output_type": "stream",
          "text": [
            "\n",
            "Test set: Average loss: 1.7646, Accuracy: 4881/10000 (49%)\n",
            "\n"
          ],
          "name": "stdout"
        }
      ]
    },
    {
      "cell_type": "markdown",
      "metadata": {
        "id": "Pft0JDgJ9mgz",
        "colab_type": "text"
      },
      "source": [
        "If you train with reasonable settings, you should get a testing accuracy somewhere between 45% and 50% (random chance is 1/10 obviously)."
      ]
    }
  ]
}