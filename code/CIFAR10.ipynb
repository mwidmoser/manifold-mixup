{
  "nbformat": 4,
  "nbformat_minor": 0,
  "metadata": {
    "colab": {
      "name": "CIFAR10.ipynb",
      "provenance": [],
      "collapsed_sections": [],
      "include_colab_link": true
    },
    "kernelspec": {
      "name": "python3",
      "display_name": "Python 3"
    },
    "accelerator": "GPU"
  },
  "cells": [
    {
      "cell_type": "markdown",
      "metadata": {
        "id": "view-in-github",
        "colab_type": "text"
      },
      "source": [
        "<a href=\"https://colab.research.google.com/github/mwidmoser/manifold-mixup/blob/master/code/CIFAR10.ipynb\" target=\"_parent\"><img src=\"https://colab.research.google.com/assets/colab-badge.svg\" alt=\"Open In Colab\"/></a>"
      ]
    },
    {
      "cell_type": "markdown",
      "metadata": {
        "id": "bxCe-p9LIXRu",
        "colab_type": "text"
      },
      "source": [
        "# Manifold Mixup"
      ]
    },
    {
      "cell_type": "code",
      "metadata": {
        "id": "CeswLxlcE28m",
        "colab_type": "code",
        "outputId": "70163b77-c8fb-4efa-911a-f59fb95bfb48",
        "colab": {
          "base_uri": "https://localhost:8080/",
          "height": 34
        }
      },
      "source": [
        "%matplotlib inline\n",
        "import matplotlib.pyplot as plt\n",
        "\n",
        "# PyTorch imports\n",
        "import torch\n",
        "import torch.nn as nn\n",
        "import torch.optim as optim\n",
        "import torch.nn.functional as F\n",
        "\n",
        "# Torchvision imports\n",
        "import torchvision\n",
        "import torchvision.transforms as transforms\n",
        "from torchvision.datasets import MNIST, CIFAR10\n",
        "from torch.utils.data.dataset import Subset\n",
        "from torch.utils.data import DataLoader\n",
        "\n",
        "# Numpy and other stuff\n",
        "import numpy as np\n",
        "from sklearn.model_selection import StratifiedShuffleSplit\n",
        "from collections import Counter\n",
        "\n",
        "torch.manual_seed(1234);\n",
        "np.random.seed(1234);\n",
        "\n",
        "# Check if we have a CUDA-capable device; if so, use it\n",
        "device = 'cuda' if torch.cuda.is_available() else 'cpu'\n",
        "print('Will train on {}'.format(device))"
      ],
      "execution_count": 14,
      "outputs": [
        {
          "output_type": "stream",
          "text": [
            "Will train on cuda\n"
          ],
          "name": "stdout"
        }
      ]
    },
    {
      "cell_type": "code",
      "metadata": {
        "id": "eOSdQelkMPAd",
        "colab_type": "code",
        "outputId": "a32c9df8-5385-4c09-854f-ac66e1dc7e34",
        "colab": {
          "base_uri": "https://localhost:8080/",
          "height": 51
        }
      },
      "source": [
        "# CIFAR10 transforms (random horizontal flipping + mean/std. dev. normalize)\n",
        "cifar10_transforms = transforms.Compose(\n",
        "    [transforms.RandomHorizontalFlip(p=0.5),\n",
        "     transforms.ToTensor(),\n",
        "     transforms.Normalize((0.4914, 0.4822, 0.4465), (0.247, 0.243, 0.261))])\n",
        "         \n",
        "# Load full training data\n",
        "ds_train = CIFAR10('./cifar', \n",
        "                 train=True, \n",
        "                 transform=cifar10_transforms, \n",
        "                 target_transform=None, \n",
        "                 download=True)\n",
        "\n",
        "# Load full testing data \n",
        "ds_test = CIFAR10('./cifar', \n",
        "                 train=False, \n",
        "                 transform=cifar10_transforms,\n",
        "                 target_transform=None, \n",
        "                 download=True)\n",
        "\n",
        "lab = [ds_train[x][1] for x in range(len(ds_train))]"
      ],
      "execution_count": 16,
      "outputs": [
        {
          "output_type": "stream",
          "text": [
            "Files already downloaded and verified\n",
            "Files already downloaded and verified\n"
          ],
          "name": "stdout"
        }
      ]
    },
    {
      "cell_type": "code",
      "metadata": {
        "id": "CGmz9GEKRuvw",
        "colab_type": "code",
        "colab": {}
      },
      "source": [
        "def generate_train_indices(n_splits, train_size, lab):\n",
        "    s = StratifiedShuffleSplit(\n",
        "        n_splits=n_splits, \n",
        "        train_size=train_size, \n",
        "        test_size=None)\n",
        "    \n",
        "    return [i.tolist() for i, _ in s.split(lab, lab)]"
      ],
      "execution_count": 0,
      "outputs": []
    },
    {
      "cell_type": "code",
      "metadata": {
        "id": "KGYPAsbwR77Z",
        "colab_type": "code",
        "colab": {}
      },
      "source": [
        "classes = ['plane', \n",
        "           'car', \n",
        "           'bird', \n",
        "           'cat',\n",
        "           'deer', \n",
        "           'dog', \n",
        "           'frog', \n",
        "           'horse', \n",
        "           'ship', \n",
        "           'truck']"
      ],
      "execution_count": 0,
      "outputs": []
    },
    {
      "cell_type": "code",
      "metadata": {
        "id": "vxTbKsZnSC-2",
        "colab_type": "code",
        "colab": {}
      },
      "source": [
        "def show_images(ds: torchvision.datasets.cifar.CIFAR10, \n",
        "                indices: list):\n",
        "    \n",
        "    assert np.max(indices) < len(ds)\n",
        "    \n",
        "    plt.figure(figsize=(9, len(indices)));\n",
        "    for j,idx in enumerate(indices):\n",
        "        plt.subplot(1,len(indices),j+1)\n",
        "        plt.imshow(ds[idx][0].permute(1,2,0).numpy())\n",
        "        plt.title('Label={}'.format(classes[ds[idx][1]]),fontsize=9)"
      ],
      "execution_count": 0,
      "outputs": []
    },
    {
      "cell_type": "markdown",
      "metadata": {
        "id": "4ElEkUGgJ86C",
        "colab_type": "text"
      },
      "source": [
        "## Tasks\n",
        "\n",
        "The assignment is split into 4 parts: \n",
        "\n",
        "1. Writing the model definition\n",
        "2. Writing the training code\n",
        "3. Writing the testing code\n",
        "4. Writing the *glue* code for training/testing\n",
        "\n",
        "*First*, implement the following **convolutional neural network (CNN)**: It consists of 3 blocks and a simple linear classifier at the end.\n",
        "\n",
        "My notation denotes the following:\n",
        "\n",
        "- `Conv2D(in_channels, out_channels, kernel_size, padding)` - 2D Convolution\n",
        "- `MaxPool(kernel_size, stride, padding)` - Max. pooling\n",
        "- `AvgPool(kernel_size, stride, padding)` - Avg. pooling\n",
        "- `Dropout(dropout_probability)` - Dropout layer\n",
        "- `BatchNorm2D` - 2D batch normalization\n",
        "\n",
        "All these operations can also be found in the [PyTorch documentaton](https://pytorch.org/docs/stable/index.html).\n",
        "\n",
        "**Block 1**\n",
        "\n",
        "```\n",
        "Conv2D(  3,128,3,1) -> Batchnorm2D -> LeakyReLU(0.1)\n",
        "Conv2D(128,128,3,1) -> Batchnorm2D -> LeakyReLU(0.1)\n",
        "Conv2D(128,128,3,1) -> Batchnorm2D -> LeakyReLU(0.1)\n",
        "MaxPool(2,2,0)\n",
        "Dropout(0.5)\n",
        "```\n",
        "The output size at that point should be $N \\times 128 \\times 16 \\times 16$.\n",
        "\n",
        "**Block 2**\n",
        "\n",
        "```\n",
        "Conv2D(128,256,3,1) -> Batchnorm2D -> LeakyReLU(0.1)\n",
        "Conv2D(256,256,3,1) -> Batchnorm2D -> LeakyReLU(0.1)\n",
        "Conv2D(256,256,3,1) -> Batchnorm2D -> LeakyReLU(0.1)\n",
        "MaxPool(2,2,0)\n",
        "Dropout(0.5)\n",
        "```\n",
        "The output size at that point should be $N \\times 128 \\times 8 \\times 8$.\n",
        "\n",
        "**Block 3**\n",
        "\n",
        "```\n",
        "Conv2D(256,512,3,0) -> Batchnorm2D -> LeakyReLU(0.1)\n",
        "Conv2D(512,256,1,0) -> Batchnorm2D -> LeakyReLU(0.1)\n",
        "Conv2D(256,128,1,0) -> Batchnorm2D -> LeakyReLU(0.1)\n",
        "AvgPool(6,2,0)\n",
        "Dropout(0.5)\n",
        "```\n",
        "The output size at that point should be $N \\times 128 \\times 1 \\times 1$.\n",
        "\n",
        "**Classifier**\n",
        "\n",
        "View the output of the last block as a $1 \\times 128$ tensor and add a \n",
        "linear layer mapping from $\\mathbb{R}^{128} \\rightarrow \\mathbb{R}^{10}$\n",
        "(include bias)."
      ]
    },
    {
      "cell_type": "markdown",
      "metadata": {
        "id": "YDCXdZUSKzAY",
        "colab_type": "text"
      },
      "source": [
        "```python\n",
        "class ConvNet(nn.Module): \n",
        "    def __init__(self, num_classes=10):\n",
        "      super(ConvNet, self).__init__()\n",
        "      # YOUR CODE GOES HERE\n",
        "      \n",
        "    def forward(self, x):\n",
        "      # YOUR CODE GOES HERE\n",
        "      pass\n",
        "```"
      ]
    },
    {
      "cell_type": "code",
      "metadata": {
        "id": "nmEQ00e8SEv2",
        "colab_type": "code",
        "colab": {}
      },
      "source": [
        "class ConvNet(nn.Module): \n",
        "    def __init__(self, num_classes=10):\n",
        "        super(ConvNet, self).__init__()\n",
        "        \n",
        "        def make_block(conv_config, pooling_op=None, use_dropout=False):\n",
        "            mlist = nn.ModuleList()\n",
        "            for in_c, out_c, k_size, pad in conv_config:\n",
        "                mlist.extend([\n",
        "                    nn.Conv2d(in_c, out_c, k_size, padding=pad),\n",
        "                    nn.BatchNorm2d(out_c),\n",
        "                    nn.LeakyReLU(0.1)\n",
        "                ])\n",
        "            mlist.append(pooling_op)\n",
        "            if use_dropout:\n",
        "                mlist.append(nn.Dropout(0.5))\n",
        "            return mlist\n",
        "\n",
        "        self.block1 = make_block([\n",
        "            [  3,128,3,1],\n",
        "            [128,128,3,1],\n",
        "            [128,128,3,1]], \n",
        "            nn.MaxPool2d(2,stride=2,padding=0), \n",
        "            use_dropout=True)\n",
        "        \n",
        "        self.block2 = make_block([\n",
        "            [128,256,3,1],\n",
        "            [256,256,3,1],\n",
        "            [256,256,3,1]], \n",
        "            nn.MaxPool2d(2,stride=2,padding=0),\n",
        "            use_dropout=True)\n",
        "\n",
        "        self.block3 = make_block([\n",
        "            [256,512,3,0],\n",
        "            [512,256,1,0],\n",
        "            [256,128,1,0]], \n",
        "            nn.AvgPool2d(6,stride=2,padding=0),\n",
        "            use_dropout=False)\n",
        "        \n",
        "        self.classifier = nn.Linear(128,10)\n",
        "    \n",
        "    def forward(self, x):\n",
        "        for l in self.block1: x = l(x)\n",
        "        for l in self.block2: x = l(x)\n",
        "        for l in self.block3: x = l(x)\n",
        "        x = x.view(x.size(0),-1)\n",
        "        x = self.classifier(x)\n",
        "        return x"
      ],
      "execution_count": 0,
      "outputs": []
    },
    {
      "cell_type": "code",
      "metadata": {
        "id": "BhtMSe7TSHo6",
        "colab_type": "code",
        "outputId": "d3522999-a4e8-44d8-d579-ad2261a37f91",
        "colab": {
          "base_uri": "https://localhost:8080/",
          "height": 34
        }
      },
      "source": [
        "net = ConvNet(10)\n",
        "out = net(torch.rand(5,3,32,32))\n",
        "print(out.size())"
      ],
      "execution_count": 26,
      "outputs": [
        {
          "output_type": "stream",
          "text": [
            "torch.Size([5, 10])\n"
          ],
          "name": "stdout"
        }
      ]
    },
    {
      "cell_type": "code",
      "metadata": {
        "id": "B0n0awvRIluQ",
        "colab_type": "code",
        "colab": {}
      },
      "source": [
        "def mixup(x, y, alpha=1.0):\n",
        "    lam = np.random.beta(alpha, alpha) if alpha > 0 else 1\n",
        "    batch_size = x.size()[0]\n",
        "\n",
        "    if torch.cuda.is_available():\n",
        "        index = torch.randperm(batch_size).cuda()\n",
        "    else:\n",
        "        index = torch.randperm(batch_size)\n",
        "\n",
        "    mixed_x = lam * x + (1 - lam) * x[index, :]\n",
        "    y_a, y_b = y, y[index]\n",
        "    \n",
        "    return mixed_x, y_a, y_b, lam"
      ],
      "execution_count": 0,
      "outputs": []
    },
    {
      "cell_type": "code",
      "metadata": {
        "id": "XKGU7kx6LRtO",
        "colab_type": "code",
        "colab": {}
      },
      "source": [
        "def mixup_criterion(criterion, pred, y_a, y_b, lam):\n",
        "    return lam * criterion(pred, y_a) + (1 - lam) * criterion(pred, y_b)"
      ],
      "execution_count": 0,
      "outputs": []
    },
    {
      "cell_type": "code",
      "metadata": {
        "id": "vB6ibYt1SMhg",
        "colab_type": "code",
        "colab": {}
      },
      "source": [
        "def train(model, device, train_loader, optimizer, epoch):    \n",
        "    model.train()\n",
        "    \n",
        "    epoch_loss = 0\n",
        "    for batch_idx, (data, target) in enumerate(train_loader):\n",
        "        optimizer.zero_grad()\n",
        "        data, target = data.to(device), target.to(device)\n",
        "        \n",
        "        # input mixup\n",
        "        data, target_a, target_b, lam = mixup(data, target, 0.5)\n",
        "\n",
        "        output = model(data)\n",
        "\n",
        "        loss = mixup_criterion(F.cross_entropy, output, target_a, target_b, lam)\n",
        "\n",
        "        loss.backward()\n",
        "        optimizer.step()\n",
        "        \n",
        "        epoch_loss += loss.item()\n",
        "\n",
        "    print('Train Epoch: {:2d} \\tLoss: {:.6f}'.format(epoch, epoch_loss))"
      ],
      "execution_count": 0,
      "outputs": []
    },
    {
      "cell_type": "code",
      "metadata": {
        "id": "HsHPvlm1SVht",
        "colab_type": "code",
        "colab": {}
      },
      "source": [
        "def test(model, device, test_loader):\n",
        "    model.eval()\n",
        "    test_loss, correct = 0, 0\n",
        "    \n",
        "    with torch.no_grad():\n",
        "        for data, target in test_loader:\n",
        "            data, target = data.to(device), target.to(device)\n",
        "            output = model(data)\n",
        "            test_loss += F.cross_entropy(output, target, reduction='sum').item()\n",
        "            pred = output.argmax(dim=1, keepdim=True)\n",
        "            correct += pred.eq(target.view_as(pred)).sum().item()\n",
        "\n",
        "    test_loss /= len(test_loader.dataset)\n",
        "    print('\\nTest set: Average loss: {:.4f}, Accuracy: {}/{} ({:.0f}%)\\n'.format(\n",
        "        test_loss, correct, len(test_loader.dataset),\n",
        "        100. * correct / len(test_loader.dataset)))"
      ],
      "execution_count": 0,
      "outputs": []
    },
    {
      "cell_type": "markdown",
      "metadata": {
        "id": "hByDU-eF7rjY",
        "colab_type": "text"
      },
      "source": [
        "Finally, write the *glue* code which iterates over `n_epochs` (e.g., 100) and, in each epoch, calls `train(...)` and `test(...)`."
      ]
    },
    {
      "cell_type": "code",
      "metadata": {
        "id": "OXEkyYPjSPye",
        "colab_type": "code",
        "outputId": "c585eb5c-5cc9-41be-dd1e-023b8dea50bb",
        "colab": {
          "base_uri": "https://localhost:8080/",
          "height": 34
        }
      },
      "source": [
        "train_indices = generate_train_indices(10, 500, lab)\n",
        "ds_train_subset = Subset(ds_train, train_indices[1])\n",
        "print(Counter([ds_train_subset[i][1] for i in range(len(ds_train_subset))]))\n",
        "\n",
        "train_loader = torch.utils.data.DataLoader(\n",
        "    ds_train_subset,\n",
        "    batch_size=32,\n",
        "    shuffle=True)\n",
        "\n",
        "test_loader = torch.utils.data.DataLoader(\n",
        "    ds_test, \n",
        "    batch_size=64, \n",
        "    shuffle=False)"
      ],
      "execution_count": 24,
      "outputs": [
        {
          "output_type": "stream",
          "text": [
            "Counter({2: 50, 3: 50, 8: 50, 6: 50, 9: 50, 0: 50, 4: 50, 7: 50, 1: 50, 5: 50})\n"
          ],
          "name": "stdout"
        }
      ]
    },
    {
      "cell_type": "markdown",
      "metadata": {
        "id": "twFNwCY46vO5",
        "colab_type": "text"
      },
      "source": [
        "Train the model using **SGD** with a learning rate of 0.01 and momentum of 0.9 for 100 epochs.\n",
        "\n",
        "After every 10th epoch, evaluate the current model on the testing data and print the current accuracy."
      ]
    },
    {
      "cell_type": "code",
      "metadata": {
        "id": "Cx2ahoZnSRqP",
        "colab_type": "code",
        "outputId": "483333e6-9766-479b-cd30-6eda84334cc1",
        "colab": {
          "base_uri": "https://localhost:8080/",
          "height": 1000
        }
      },
      "source": [
        "n_epochs = 100\n",
        "\n",
        "model = ConvNet().to(device)\n",
        "\n",
        "optimizer = optim.SGD(\n",
        "    model.parameters(), \n",
        "    lr=0.01, \n",
        "    momentum=0.9,\n",
        "    weight_decay=1e-3)\n",
        "\n",
        "scheduler = torch.optim.lr_scheduler.StepLR(optimizer, 30, 0.1)\n",
        "\n",
        "for epoch in range(1,n_epochs + 1):\n",
        "    train(model, device, train_loader, optimizer, epoch)\n",
        "    if epoch % 10 == 0:\n",
        "      test(model, device, test_loader)\n",
        "    scheduler.step()"
      ],
      "execution_count": 41,
      "outputs": [
        {
          "output_type": "stream",
          "text": [
            "Train Epoch:  1 \tLoss: 35.993544\n",
            "Train Epoch:  2 \tLoss: 33.173493\n",
            "Train Epoch:  3 \tLoss: 33.551464\n",
            "Train Epoch:  4 \tLoss: 31.781558\n",
            "Train Epoch:  5 \tLoss: 31.158921\n",
            "Train Epoch:  6 \tLoss: 29.247989\n",
            "Train Epoch:  7 \tLoss: 30.051279\n",
            "Train Epoch:  8 \tLoss: 28.834663\n",
            "Train Epoch:  9 \tLoss: 28.451897\n",
            "Train Epoch: 10 \tLoss: 28.688073\n",
            "\n",
            "Test set: Average loss: 1.8837, Accuracy: 3284/10000 (33%)\n",
            "\n",
            "Train Epoch: 11 \tLoss: 28.259089\n",
            "Train Epoch: 12 \tLoss: 28.620382\n",
            "Train Epoch: 13 \tLoss: 28.004350\n",
            "Train Epoch: 14 \tLoss: 27.125942\n",
            "Train Epoch: 15 \tLoss: 28.147513\n",
            "Train Epoch: 16 \tLoss: 26.960829\n",
            "Train Epoch: 17 \tLoss: 26.663839\n",
            "Train Epoch: 18 \tLoss: 25.408152\n",
            "Train Epoch: 19 \tLoss: 23.929082\n",
            "Train Epoch: 20 \tLoss: 24.876380\n",
            "\n",
            "Test set: Average loss: 1.5648, Accuracy: 4264/10000 (43%)\n",
            "\n",
            "Train Epoch: 21 \tLoss: 24.906448\n",
            "Train Epoch: 22 \tLoss: 23.179661\n",
            "Train Epoch: 23 \tLoss: 26.555304\n",
            "Train Epoch: 24 \tLoss: 23.540205\n",
            "Train Epoch: 25 \tLoss: 23.875536\n",
            "Train Epoch: 26 \tLoss: 24.984888\n",
            "Train Epoch: 27 \tLoss: 25.032816\n",
            "Train Epoch: 28 \tLoss: 23.453718\n",
            "Train Epoch: 29 \tLoss: 22.553238\n",
            "Train Epoch: 30 \tLoss: 22.130191\n",
            "\n",
            "Test set: Average loss: 1.7035, Accuracy: 4402/10000 (44%)\n",
            "\n",
            "Train Epoch: 31 \tLoss: 21.600604\n",
            "Train Epoch: 32 \tLoss: 17.720607\n",
            "Train Epoch: 33 \tLoss: 19.567769\n",
            "Train Epoch: 34 \tLoss: 19.528637\n",
            "Train Epoch: 35 \tLoss: 17.613011\n",
            "Train Epoch: 36 \tLoss: 18.514553\n",
            "Train Epoch: 37 \tLoss: 22.368636\n",
            "Train Epoch: 38 \tLoss: 20.745637\n",
            "Train Epoch: 39 \tLoss: 18.427651\n",
            "Train Epoch: 40 \tLoss: 17.907254\n",
            "\n",
            "Test set: Average loss: 1.4334, Accuracy: 5033/10000 (50%)\n",
            "\n",
            "Train Epoch: 41 \tLoss: 19.277936\n",
            "Train Epoch: 42 \tLoss: 17.964195\n",
            "Train Epoch: 43 \tLoss: 19.608902\n",
            "Train Epoch: 44 \tLoss: 19.489182\n",
            "Train Epoch: 45 \tLoss: 20.687253\n",
            "Train Epoch: 46 \tLoss: 19.758516\n",
            "Train Epoch: 47 \tLoss: 17.003700\n",
            "Train Epoch: 48 \tLoss: 16.061377\n",
            "Train Epoch: 49 \tLoss: 17.726293\n",
            "Train Epoch: 50 \tLoss: 19.560014\n",
            "\n",
            "Test set: Average loss: 1.4486, Accuracy: 5038/10000 (50%)\n",
            "\n",
            "Train Epoch: 51 \tLoss: 17.707179\n",
            "Train Epoch: 52 \tLoss: 18.536208\n",
            "Train Epoch: 53 \tLoss: 19.167226\n",
            "Train Epoch: 54 \tLoss: 15.879389\n",
            "Train Epoch: 55 \tLoss: 18.911913\n",
            "Train Epoch: 56 \tLoss: 16.908104\n",
            "Train Epoch: 57 \tLoss: 17.299780\n",
            "Train Epoch: 58 \tLoss: 19.133872\n",
            "Train Epoch: 59 \tLoss: 18.999439\n",
            "Train Epoch: 60 \tLoss: 15.830931\n",
            "\n",
            "Test set: Average loss: 1.4318, Accuracy: 5077/10000 (51%)\n",
            "\n",
            "Train Epoch: 61 \tLoss: 17.809622\n",
            "Train Epoch: 62 \tLoss: 14.478604\n",
            "Train Epoch: 63 \tLoss: 18.701193\n",
            "Train Epoch: 64 \tLoss: 17.639886\n",
            "Train Epoch: 65 \tLoss: 17.931139\n",
            "Train Epoch: 66 \tLoss: 18.467351\n",
            "Train Epoch: 67 \tLoss: 15.520070\n",
            "Train Epoch: 68 \tLoss: 18.260916\n",
            "Train Epoch: 69 \tLoss: 17.109708\n",
            "Train Epoch: 70 \tLoss: 14.780455\n",
            "\n",
            "Test set: Average loss: 1.4492, Accuracy: 5039/10000 (50%)\n",
            "\n",
            "Train Epoch: 71 \tLoss: 18.263197\n",
            "Train Epoch: 72 \tLoss: 16.562286\n",
            "Train Epoch: 73 \tLoss: 18.394852\n",
            "Train Epoch: 74 \tLoss: 16.909041\n",
            "Train Epoch: 75 \tLoss: 16.855614\n",
            "Train Epoch: 76 \tLoss: 16.410068\n",
            "Train Epoch: 77 \tLoss: 16.333830\n",
            "Train Epoch: 78 \tLoss: 18.201344\n",
            "Train Epoch: 79 \tLoss: 17.667669\n",
            "Train Epoch: 80 \tLoss: 18.685519\n",
            "\n",
            "Test set: Average loss: 1.4510, Accuracy: 5064/10000 (51%)\n",
            "\n",
            "Train Epoch: 81 \tLoss: 17.651209\n",
            "Train Epoch: 82 \tLoss: 18.164850\n",
            "Train Epoch: 83 \tLoss: 17.304075\n",
            "Train Epoch: 84 \tLoss: 18.305326\n",
            "Train Epoch: 85 \tLoss: 18.794775\n",
            "Train Epoch: 86 \tLoss: 14.813663\n",
            "Train Epoch: 87 \tLoss: 18.960269\n",
            "Train Epoch: 88 \tLoss: 17.932333\n",
            "Train Epoch: 89 \tLoss: 15.085304\n",
            "Train Epoch: 90 \tLoss: 16.360919\n",
            "\n",
            "Test set: Average loss: 1.4376, Accuracy: 5097/10000 (51%)\n",
            "\n",
            "Train Epoch: 91 \tLoss: 16.490950\n",
            "Train Epoch: 92 \tLoss: 19.138544\n",
            "Train Epoch: 93 \tLoss: 16.505497\n",
            "Train Epoch: 94 \tLoss: 18.716027\n",
            "Train Epoch: 95 \tLoss: 19.723593\n",
            "Train Epoch: 96 \tLoss: 18.334106\n",
            "Train Epoch: 97 \tLoss: 16.501932\n",
            "Train Epoch: 98 \tLoss: 18.292220\n",
            "Train Epoch: 99 \tLoss: 19.034904\n",
            "Train Epoch: 100 \tLoss: 16.607542\n",
            "\n",
            "Test set: Average loss: 1.4474, Accuracy: 5078/10000 (51%)\n",
            "\n"
          ],
          "name": "stdout"
        }
      ]
    },
    {
      "cell_type": "code",
      "metadata": {
        "id": "bAWY0tei5QGW",
        "colab_type": "code",
        "outputId": "b7db1ada-4f6d-440e-a467-f619ea25db3f",
        "colab": {
          "base_uri": "https://localhost:8080/",
          "height": 68
        }
      },
      "source": [
        "test(model, device, test_loader)"
      ],
      "execution_count": 42,
      "outputs": [
        {
          "output_type": "stream",
          "text": [
            "\n",
            "Test set: Average loss: 1.4452, Accuracy: 5092/10000 (51%)\n",
            "\n"
          ],
          "name": "stdout"
        }
      ]
    },
    {
      "cell_type": "markdown",
      "metadata": {
        "id": "Pft0JDgJ9mgz",
        "colab_type": "text"
      },
      "source": [
        "If you train with reasonable settings, you should get a testing accuracy somewhere between 45% and 50% (random chance is 1/10 obviously)."
      ]
    }
  ]
}