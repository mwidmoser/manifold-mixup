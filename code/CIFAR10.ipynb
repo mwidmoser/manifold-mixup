{
  "nbformat": 4,
  "nbformat_minor": 0,
  "metadata": {
    "colab": {
      "name": "CIFAR10.ipynb",
      "provenance": [],
      "collapsed_sections": [],
      "include_colab_link": true
    },
    "kernelspec": {
      "name": "python3",
      "display_name": "Python 3"
    },
    "accelerator": "GPU"
  },
  "cells": [
    {
      "cell_type": "markdown",
      "metadata": {
        "id": "view-in-github",
        "colab_type": "text"
      },
      "source": [
        "<a href=\"https://colab.research.google.com/github/mwidmoser/manifold-mixup/blob/master/code/CIFAR10.ipynb\" target=\"_parent\"><img src=\"https://colab.research.google.com/assets/colab-badge.svg\" alt=\"Open In Colab\"/></a>"
      ]
    },
    {
      "cell_type": "markdown",
      "metadata": {
        "id": "bxCe-p9LIXRu",
        "colab_type": "text"
      },
      "source": [
        "# Manifold Mixup"
      ]
    },
    {
      "cell_type": "code",
      "metadata": {
        "id": "CeswLxlcE28m",
        "colab_type": "code",
        "colab": {
          "base_uri": "https://localhost:8080/",
          "height": 34
        },
        "outputId": "092c7143-bb13-4fdf-9cb5-9fa82403942c"
      },
      "source": [
        "%matplotlib inline\n",
        "import matplotlib.pyplot as plt\n",
        "\n",
        "# PyTorch imports\n",
        "import torch\n",
        "import torch.nn as nn\n",
        "import torch.optim as optim\n",
        "import torch.nn.functional as F\n",
        "\n",
        "# Torchvision imports\n",
        "import torchvision\n",
        "import torchvision.transforms as transforms\n",
        "from torchvision.datasets import MNIST, CIFAR10\n",
        "from torch.utils.data.dataset import Subset\n",
        "from torch.utils.data import DataLoader\n",
        "\n",
        "# Numpy and other stuff\n",
        "import numpy as np\n",
        "import random\n",
        "from sklearn.model_selection import StratifiedShuffleSplit\n",
        "from collections import Counter\n",
        "\n",
        "# Tensorboard\n",
        "from torch.utils.tensorboard import SummaryWriter\n",
        "\n",
        "torch.manual_seed(1234);\n",
        "np.random.seed(1234);\n",
        "\n",
        "# Check if we have a CUDA-capable device; if so, use it\n",
        "device = 'cuda' if torch.cuda.is_available() else 'cpu'\n",
        "print('Will train on {}'.format(device))"
      ],
      "execution_count": 17,
      "outputs": [
        {
          "output_type": "stream",
          "text": [
            "Will train on cuda\n"
          ],
          "name": "stdout"
        }
      ]
    },
    {
      "cell_type": "code",
      "metadata": {
        "id": "eOSdQelkMPAd",
        "colab_type": "code",
        "colab": {
          "base_uri": "https://localhost:8080/",
          "height": 51
        },
        "outputId": "e988e8ee-6170-4db9-91ae-609e0d6b3f79"
      },
      "source": [
        "# CIFAR10 transforms (random horizontal flipping + mean/std. dev. normalize)\n",
        "cifar10_transforms_train = transforms.Compose(\n",
        "    [transforms.RandomCrop(size=32,padding=4,padding_mode='reflect'),\n",
        "     transforms.RandomHorizontalFlip(p=0.5),\n",
        "     transforms.ToTensor(),\n",
        "     transforms.Normalize((0.4914, 0.4822, 0.4465), (0.247, 0.243, 0.261))])\n",
        "\n",
        "cifar10_transforms_test = transforms.Compose(\n",
        "    [transforms.ToTensor(),\n",
        "     transforms.Normalize((0.4914, 0.4822, 0.4465), (0.247, 0.243, 0.261))])\n",
        "         \n",
        "# Load full training data\n",
        "ds_train = CIFAR10('./cifar', \n",
        "                 train=True, \n",
        "                 transform=cifar10_transforms_train, \n",
        "                 target_transform=None, \n",
        "                 download=True)\n",
        "\n",
        "# Load full testing data \n",
        "ds_test = CIFAR10('./cifar', \n",
        "                 train=False, \n",
        "                 transform=cifar10_transforms_test,\n",
        "                 target_transform=None, \n",
        "                 download=True)\n",
        "\n",
        "lab = [ds_train[x][1] for x in range(len(ds_train))]"
      ],
      "execution_count": 18,
      "outputs": [
        {
          "output_type": "stream",
          "text": [
            "Files already downloaded and verified\n",
            "Files already downloaded and verified\n"
          ],
          "name": "stdout"
        }
      ]
    },
    {
      "cell_type": "code",
      "metadata": {
        "id": "CGmz9GEKRuvw",
        "colab_type": "code",
        "colab": {}
      },
      "source": [
        "def generate_train_indices(n_splits, train_size, lab):\n",
        "    s = StratifiedShuffleSplit(\n",
        "        n_splits=n_splits, \n",
        "        train_size=train_size, \n",
        "        test_size=None)\n",
        "    \n",
        "    return [i.tolist() for i, _ in s.split(lab, lab)]"
      ],
      "execution_count": 0,
      "outputs": []
    },
    {
      "cell_type": "code",
      "metadata": {
        "id": "KGYPAsbwR77Z",
        "colab_type": "code",
        "colab": {}
      },
      "source": [
        "classes = ['plane', \n",
        "           'car', \n",
        "           'bird', \n",
        "           'cat',\n",
        "           'deer', \n",
        "           'dog', \n",
        "           'frog', \n",
        "           'horse', \n",
        "           'ship', \n",
        "           'truck']"
      ],
      "execution_count": 0,
      "outputs": []
    },
    {
      "cell_type": "code",
      "metadata": {
        "id": "vxTbKsZnSC-2",
        "colab_type": "code",
        "colab": {}
      },
      "source": [
        "def show_images(ds: torchvision.datasets.cifar.CIFAR10, \n",
        "                indices: list):\n",
        "    \n",
        "    assert np.max(indices) < len(ds)\n",
        "    \n",
        "    plt.figure(figsize=(9, len(indices)));\n",
        "    for j,idx in enumerate(indices):\n",
        "        plt.subplot(1,len(indices),j+1)\n",
        "        plt.imshow(ds[idx][0].permute(1,2,0).numpy())\n",
        "        plt.title('Label={}'.format(classes[ds[idx][1]]),fontsize=9)"
      ],
      "execution_count": 0,
      "outputs": []
    },
    {
      "cell_type": "markdown",
      "metadata": {
        "id": "4ElEkUGgJ86C",
        "colab_type": "text"
      },
      "source": [
        "## Tasks\n",
        "\n",
        "The assignment is split into 4 parts: \n",
        "\n",
        "1. Writing the model definition\n",
        "2. Writing the training code\n",
        "3. Writing the testing code\n",
        "4. Writing the *glue* code for training/testing\n",
        "\n",
        "*First*, implement the following **convolutional neural network (CNN)**: It consists of 3 blocks and a simple linear classifier at the end.\n",
        "\n",
        "My notation denotes the following:\n",
        "\n",
        "- `Conv2D(in_channels, out_channels, kernel_size, padding)` - 2D Convolution\n",
        "- `MaxPool(kernel_size, stride, padding)` - Max. pooling\n",
        "- `AvgPool(kernel_size, stride, padding)` - Avg. pooling\n",
        "- `Dropout(dropout_probability)` - Dropout layer\n",
        "- `BatchNorm2D` - 2D batch normalization\n",
        "\n",
        "All these operations can also be found in the [PyTorch documentaton](https://pytorch.org/docs/stable/index.html).\n",
        "\n",
        "**Block 1**\n",
        "\n",
        "```\n",
        "Conv2D(  3,128,3,1) -> Batchnorm2D -> LeakyReLU(0.1)\n",
        "Conv2D(128,128,3,1) -> Batchnorm2D -> LeakyReLU(0.1)\n",
        "Conv2D(128,128,3,1) -> Batchnorm2D -> LeakyReLU(0.1)\n",
        "MaxPool(2,2,0)\n",
        "Dropout(0.5)\n",
        "```\n",
        "The output size at that point should be $N \\times 128 \\times 16 \\times 16$.\n",
        "\n",
        "**Block 2**\n",
        "\n",
        "```\n",
        "Conv2D(128,256,3,1) -> Batchnorm2D -> LeakyReLU(0.1)\n",
        "Conv2D(256,256,3,1) -> Batchnorm2D -> LeakyReLU(0.1)\n",
        "Conv2D(256,256,3,1) -> Batchnorm2D -> LeakyReLU(0.1)\n",
        "MaxPool(2,2,0)\n",
        "Dropout(0.5)\n",
        "```\n",
        "The output size at that point should be $N \\times 128 \\times 8 \\times 8$.\n",
        "\n",
        "**Block 3**\n",
        "\n",
        "```\n",
        "Conv2D(256,512,3,0) -> Batchnorm2D -> LeakyReLU(0.1)\n",
        "Conv2D(512,256,1,0) -> Batchnorm2D -> LeakyReLU(0.1)\n",
        "Conv2D(256,128,1,0) -> Batchnorm2D -> LeakyReLU(0.1)\n",
        "AvgPool(6,2,0)\n",
        "Dropout(0.5)\n",
        "```\n",
        "The output size at that point should be $N \\times 128 \\times 1 \\times 1$.\n",
        "\n",
        "**Classifier**\n",
        "\n",
        "View the output of the last block as a $1 \\times 128$ tensor and add a \n",
        "linear layer mapping from $\\mathbb{R}^{128} \\rightarrow \\mathbb{R}^{10}$\n",
        "(include bias)."
      ]
    },
    {
      "cell_type": "markdown",
      "metadata": {
        "id": "YDCXdZUSKzAY",
        "colab_type": "text"
      },
      "source": [
        "```python\n",
        "class ConvNet(nn.Module): \n",
        "    def __init__(self, num_classes=10):\n",
        "      super(ConvNet, self).__init__()\n",
        "      # YOUR CODE GOES HERE\n",
        "      \n",
        "    def forward(self, x):\n",
        "      # YOUR CODE GOES HERE\n",
        "      pass\n",
        "```"
      ]
    },
    {
      "cell_type": "code",
      "metadata": {
        "id": "nmEQ00e8SEv2",
        "colab_type": "code",
        "colab": {}
      },
      "source": [
        "class ConvNet(nn.Module): \n",
        "    def __init__(self, num_classes=10):\n",
        "        super(ConvNet, self).__init__()\n",
        "        \n",
        "        def make_block(conv_config, pooling_op=None, use_dropout=False):\n",
        "            mlist = nn.ModuleList()\n",
        "            for in_c, out_c, k_size, pad in conv_config:\n",
        "                mlist.extend([\n",
        "                    nn.Conv2d(in_c, out_c, k_size, padding=pad),\n",
        "                    nn.BatchNorm2d(out_c),\n",
        "                    nn.LeakyReLU(0.1)\n",
        "                ])\n",
        "            mlist.append(pooling_op)\n",
        "            if use_dropout:\n",
        "                mlist.append(nn.Dropout(0.5))\n",
        "            return mlist\n",
        "\n",
        "        self.block1 = make_block([\n",
        "            [  3,128,3,1],\n",
        "            [128,128,3,1],\n",
        "            [128,128,3,1]], \n",
        "            nn.MaxPool2d(2,stride=2,padding=0), \n",
        "            use_dropout=True)\n",
        "        \n",
        "        self.block2 = make_block([\n",
        "            [128,256,3,1],\n",
        "            [256,256,3,1],\n",
        "            [256,256,3,1]], \n",
        "            nn.MaxPool2d(2,stride=2,padding=0),\n",
        "            use_dropout=True)\n",
        "\n",
        "        self.block3 = make_block([\n",
        "            [256,512,3,0],\n",
        "            [512,256,1,0],\n",
        "            [256,128,1,0]], \n",
        "            nn.AvgPool2d(6,stride=2,padding=0),\n",
        "            use_dropout=False)\n",
        "        \n",
        "        self.classifier = nn.Linear(128,10)\n",
        "    \n",
        "    def forward(self, x, y=None, mixup_blocks=[False, False, False], mixup_alpha=1.0, random_mixup=False):\n",
        "        mixup_lam  = None\n",
        "        rand_layer = None\n",
        "\n",
        "        if np.bitwise_or.reduce(mixup_blocks):\n",
        "            assert y is not None, 'targets must be give if mixup is turned on'\n",
        "            mixup_lam = np.random.beta(mixup_alpha, mixup_alpha) if mixup_alpha > 0 else 1\n",
        "\n",
        "        if random_mixup:\n",
        "            indices = [i for i, b in enumerate(mixup_blocks) if b]\n",
        "            rand_layer = random.choice(indices) if indices else None\n",
        "\n",
        "        if (mixup_blocks[0] and not random_mixup) or (random_mixup and rand_layer == 0):\n",
        "            x, _, y = mixup(x, y, mixup_lam)\n",
        "\n",
        "        for l in self.block1: x = l(x)\n",
        "\n",
        "        if (mixup_blocks[1] and not random_mixup) or (random_mixup and rand_layer == 1):\n",
        "            x, _, y = mixup(x, y, mixup_lam)\n",
        "\n",
        "        for l in self.block2: x = l(x)\n",
        "\n",
        "        if (mixup_blocks[2] and not random_mixup) or (random_mixup and rand_layer == 2):\n",
        "            x, _, y = mixup(x, y, mixup_lam)\n",
        "\n",
        "        for l in self.block3: x = l(x)\n",
        "\n",
        "        x = x.view(x.size(0),-1)\n",
        "        x = self.classifier(x)\n",
        "\n",
        "        return x, y, mixup_lam"
      ],
      "execution_count": 0,
      "outputs": []
    },
    {
      "cell_type": "code",
      "metadata": {
        "id": "BhtMSe7TSHo6",
        "colab_type": "code",
        "colab": {
          "base_uri": "https://localhost:8080/",
          "height": 34
        },
        "outputId": "da934359-721b-4b2a-bc5d-ada1255abc01"
      },
      "source": [
        "net = ConvNet(10)\n",
        "out, _, _ = net(torch.rand(5,3,32,32))\n",
        "print(out.size())"
      ],
      "execution_count": 23,
      "outputs": [
        {
          "output_type": "stream",
          "text": [
            "torch.Size([5, 10])\n"
          ],
          "name": "stdout"
        }
      ]
    },
    {
      "cell_type": "code",
      "metadata": {
        "id": "B0n0awvRIluQ",
        "colab_type": "code",
        "colab": {}
      },
      "source": [
        "def mixup(x, y, lam):\n",
        "    batch_size = x.size()[0]\n",
        "\n",
        "    # index is a random permutation of [0, ..., 31]\n",
        "    if torch.cuda.is_available():\n",
        "        index = torch.randperm(batch_size).cuda()\n",
        "    else:\n",
        "        index = torch.randperm(batch_size)\n",
        "\n",
        "    # x[index, :] swaps the training samples\n",
        "    # combine (mix) images depending on lambda\n",
        "    mixed_x = lam * x + (1 - lam) * x[index, :]\n",
        "    y_a, y_b = y, y[index]\n",
        "\n",
        "    # plt.figure(figsize=(14,9))\n",
        "\n",
        "    # plt.subplot(3, 3, 1)\n",
        "    # plt.imshow(x[0].cpu().permute(1,2,0).numpy())\n",
        "    # plt.subplot(3, 3, 2)\n",
        "    # plt.imshow(x[index, :][0].cpu().permute(1,2,0).numpy())\n",
        "    # plt.subplot(3, 3, 3)\n",
        "    # plt.imshow(mixed_x[0].cpu().permute(1,2,0).numpy())\n",
        "\n",
        "    # plt.subplot(3, 3, 4)\n",
        "    # plt.imshow(x[1].cpu().permute(1,2,0).numpy())\n",
        "    # plt.subplot(3, 3, 5)\n",
        "    # plt.imshow(x[index, :][1].cpu().permute(1,2,0).numpy())\n",
        "    # plt.subplot(3, 3, 6)\n",
        "    # plt.imshow(mixed_x[1].cpu().permute(1,2,0).numpy())\n",
        "\n",
        "    # plt.subplot(3, 3, 7)\n",
        "    # plt.imshow(x[2].cpu().permute(1,2,0).numpy())\n",
        "    # plt.subplot(3, 3, 8)\n",
        "    # plt.imshow(x[index, :][2].cpu().permute(1,2,0).numpy())\n",
        "    # plt.subplot(3, 3, 9)\n",
        "    # plt.imshow(mixed_x[2].cpu().permute(1,2,0).numpy())\n",
        "    \n",
        "    return mixed_x, y_a, y_b"
      ],
      "execution_count": 0,
      "outputs": []
    },
    {
      "cell_type": "code",
      "metadata": {
        "id": "XKGU7kx6LRtO",
        "colab_type": "code",
        "colab": {}
      },
      "source": [
        "def mixup_criterion(criterion, pred, y_a, y_b, lam):\n",
        "    return lam * criterion(pred, y_a) + (1 - lam) * criterion(pred, y_b)"
      ],
      "execution_count": 0,
      "outputs": []
    },
    {
      "cell_type": "code",
      "metadata": {
        "id": "vB6ibYt1SMhg",
        "colab_type": "code",
        "colab": {}
      },
      "source": [
        "def train(model, device, train_loader, optimizer, epoch, mixup_blocks=[False, False, False], random_mixup=False,verbose=True):    \n",
        "    model.train()\n",
        "    \n",
        "    epoch_loss = 0\n",
        "    epoch_corr = 0\n",
        "\n",
        "    for batch_idx, (data, target) in enumerate(train_loader):\n",
        "        optimizer.zero_grad()\n",
        "        data, target = data.to(device), target.to(device)\n",
        "\n",
        "        output, target_b, lam = model(data, y=target, mixup_blocks=mixup_blocks, mixup_alpha=0.5, random_mixup=random_mixup)\n",
        "\n",
        "        if lam is not None:\n",
        "          loss   = mixup_criterion(F.cross_entropy, output, target, target_b, lam)\n",
        "          if lam < 0.5:\n",
        "            target = target_b\n",
        "        else:\n",
        "          loss = F.cross_entropy(output, target)\n",
        "\n",
        "        loss.backward()\n",
        "        optimizer.step()\n",
        "\n",
        "        pred = output.argmax(dim=1, keepdim=True)\n",
        "        epoch_corr += pred.eq(target.view_as(pred)).sum().item()\n",
        "        \n",
        "        epoch_loss += loss.item()\n",
        "\n",
        "    train_accuracy = 100. * epoch_corr / len(train_loader.dataset)\n",
        "\n",
        "    if(verbose):\n",
        "      print('Train Epoch: {:2d} \\tLoss: {:.6f} \\tAccuracy: {:.2f}%'.format(epoch, epoch_loss, train_accuracy))\n",
        "\n",
        "    return epoch_loss, train_accuracy"
      ],
      "execution_count": 0,
      "outputs": []
    },
    {
      "cell_type": "code",
      "metadata": {
        "id": "HsHPvlm1SVht",
        "colab_type": "code",
        "colab": {}
      },
      "source": [
        "def test(model, device, test_loader,verbose=True):\n",
        "    model.eval()\n",
        "    test_loss, correct = 0, 0\n",
        "    \n",
        "    with torch.no_grad():\n",
        "        for data, target in test_loader:\n",
        "            data, target = data.to(device), target.to(device)\n",
        "            output, _, _ = model(data)\n",
        "            test_loss += F.cross_entropy(output, target, reduction='sum').item()\n",
        "            pred = output.argmax(dim=1, keepdim=True)\n",
        "            correct += pred.eq(target.view_as(pred)).sum().item()\n",
        "\n",
        "    test_loss /= len(test_loader.dataset)\n",
        "    test_accuracy = 100. * correct / len(test_loader.dataset)\n",
        "    \n",
        "    if(verbose):\n",
        "      print('\\nTest set: Average loss: {:.4f}, Accuracy: {}/{} ({:.2f}%)\\n'.format(test_loss, correct, len(test_loader.dataset), test_accuracy))\n",
        "    \n",
        "    return test_loss, test_accuracy"
      ],
      "execution_count": 0,
      "outputs": []
    },
    {
      "cell_type": "markdown",
      "metadata": {
        "id": "hByDU-eF7rjY",
        "colab_type": "text"
      },
      "source": [
        "Finally, write the *glue* code which iterates over `n_epochs` (e.g., 100) and, in each epoch, calls `train(...)` and `test(...)`."
      ]
    },
    {
      "cell_type": "code",
      "metadata": {
        "id": "OXEkyYPjSPye",
        "colab_type": "code",
        "colab": {
          "base_uri": "https://localhost:8080/",
          "height": 34
        },
        "outputId": "49a06a56-2e8b-4a98-b35e-6b040fd07a9d"
      },
      "source": [
        "train_indices = generate_train_indices(10, 500, lab)\n",
        "ds_train_subset = Subset(ds_train, train_indices[1])\n",
        "print(Counter([ds_train_subset[i][1] for i in range(len(ds_train_subset))]))\n",
        "\n",
        "train_loader = torch.utils.data.DataLoader(\n",
        "    ds_train_subset,\n",
        "    batch_size=32,\n",
        "    shuffle=True)\n",
        "\n",
        "test_loader = torch.utils.data.DataLoader(\n",
        "    ds_test, \n",
        "    batch_size=64, \n",
        "    shuffle=False)"
      ],
      "execution_count": 28,
      "outputs": [
        {
          "output_type": "stream",
          "text": [
            "Counter({2: 50, 3: 50, 8: 50, 6: 50, 9: 50, 0: 50, 4: 50, 7: 50, 1: 50, 5: 50})\n"
          ],
          "name": "stdout"
        }
      ]
    },
    {
      "cell_type": "markdown",
      "metadata": {
        "id": "twFNwCY46vO5",
        "colab_type": "text"
      },
      "source": [
        "Train the model using **SGD** with a learning rate of 0.01 and momentum of 0.9 for 100 epochs.\n",
        "\n",
        "After every 10th epoch, evaluate the current model on the testing data and print the current accuracy."
      ]
    },
    {
      "cell_type": "code",
      "metadata": {
        "id": "Cx2ahoZnSRqP",
        "colab_type": "code",
        "colab": {}
      },
      "source": [
        "mixup_blocks = [[False,False,False],[True,False,False],[False,True,False],[False,False,True],[True,True,False],[True,False,True],[False,True,True],[True,True,True]]\n",
        "\n",
        "for mb in mixup_blocks:\n",
        "  n_epochs = 400\n",
        "  iterations = 5\n",
        "  accuracy = 0\n",
        "  \n",
        "  learning_rate = 0.1\n",
        "  t_0 = 10\n",
        "\n",
        "  writer = SummaryWriter()\n",
        "  train_losses, train_accuracies = [], []\n",
        "  test_losses, test_accuracies = [], []\n",
        "\n",
        "  for _ in range(iterations):\n",
        "      model = ConvNet().to(device)\n",
        "\n",
        "      optimizer = optim.SGD(model.parameters(), lr=learning_rate, momentum=0.9, weight_decay=1e-3)\n",
        "      scheduler = torch.optim.lr_scheduler.CosineAnnealingWarmRestarts(optimizer, t_0)\n",
        "\n",
        "      for epoch in range(1, n_epochs + 1):\n",
        "          # if random_mixup is set to True: one of the mixup_blocks set to True is chosen at random, \n",
        "          # e.g., `mixup_blocks=[True, True, False], random_mixup=True` applies mixup to block 0 or 1\n",
        "          # if random_mixup is set to False: mixup is applied to all blocks which are set to True,\n",
        "          # however, only one block/layer might make sense\n",
        "          train_loss, train_acc = train(model, device, train_loader, optimizer, epoch, mb, random_mixup=True)\n",
        "\n",
        "          if epoch % 100 == 0:\n",
        "              test_loss, test_acc = test(model, device, test_loader)\n",
        "\n",
        "              writer.add_scalar('Test loss', np.random.random(), epoch)\n",
        "              writer.add_scalar('Test accuracy', test_acc, epoch)\n",
        "              test_losses.append((epoch, test_loss))\n",
        "              test_accuracies.append((epoch, test_acc))\n",
        "\n",
        "          writer.add_scalar('Train loss', train_loss, epoch)\n",
        "          writer.add_scalar('Train accuracy', train_acc, epoch)\n",
        "          train_losses.append((epoch, train_loss))\n",
        "          train_accuracies.append((epoch, train_acc))\n",
        "\n",
        "          scheduler.step()\n",
        "      accuracy += test_acc\n",
        "  \n",
        "  print('Mixup Config: '+str(mb))\n",
        "  print('Accuracy after {} iterations: {:.2f}%'.format(iterations, accuracy / iterations))\n",
        "  test(model, device, test_loader)"
      ],
      "execution_count": 0,
      "outputs": []
    },
    {
      "cell_type": "code",
      "metadata": {
        "id": "bAWY0tei5QGW",
        "colab_type": "code",
        "colab": {}
      },
      "source": [
        "test(model, device, test_loader)"
      ],
      "execution_count": 0,
      "outputs": []
    },
    {
      "cell_type": "markdown",
      "metadata": {
        "id": "kCitsEB0Qktz",
        "colab_type": "text"
      },
      "source": [
        "# Visualize Training"
      ]
    },
    {
      "cell_type": "code",
      "metadata": {
        "id": "_-5bywoOOIZ1",
        "colab_type": "code",
        "colab": {}
      },
      "source": [
        "# plot loss and accuracy over time\n",
        "plt.figure(figsize=(20,5))\n",
        "plt.subplot(1, 2, 1)\n",
        "plt.title('Train Loss/Accuracy')\n",
        "plt.plot([x for (x,y) in train_accuracies], [y for (x,y) in train_accuracies], linewidth=1, label='accuracy')\n",
        "plt.plot([x for (x,y) in train_losses], [y for (x,y) in train_losses], linewidth=1, label='loss')\n",
        "plt.legend()\n",
        "\n",
        "plt.subplot(1, 2, 2)\n",
        "plt.title('Test Loss/Accuracy')\n",
        "plt.plot([x for (x,y) in test_accuracies], [y for (x,y) in test_accuracies], linewidth=1, label='accuracy')\n",
        "plt.plot([x for (x,y) in test_losses], [y for (x,y) in test_losses], linewidth=1, label='loss')\n",
        "plt.legend()"
      ],
      "execution_count": 0,
      "outputs": []
    },
    {
      "cell_type": "markdown",
      "metadata": {
        "id": "2K3mGdF7QuYG",
        "colab_type": "text"
      },
      "source": [
        "## Tensorboard"
      ]
    },
    {
      "cell_type": "code",
      "metadata": {
        "id": "seaNtloMIBT5",
        "colab_type": "code",
        "colab": {}
      },
      "source": [
        "# clear any logs from previous runs\n",
        "!rm -rf ./logs/ \n",
        "\n",
        "# run tensorboard\n",
        "%load_ext tensorboard\n",
        "%tensorboard --logdir=runs"
      ],
      "execution_count": 0,
      "outputs": []
    }
  ]
}